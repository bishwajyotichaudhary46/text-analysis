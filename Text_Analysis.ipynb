{
  "nbformat": 4,
  "nbformat_minor": 0,
  "metadata": {
    "colab": {
      "provenance": []
    },
    "kernelspec": {
      "name": "python3",
      "display_name": "Python 3"
    },
    "language_info": {
      "name": "python"
    }
  },
  "cells": [
    {
      "cell_type": "code",
      "execution_count": 64,
      "metadata": {
        "id": "bWBcO5ck8nKH"
      },
      "outputs": [],
      "source": [
        "import pandas as pd\n",
        "import numpy as np\n",
        "import json\n",
        "\n",
        "import nltk\n",
        "import re\n",
        "from nltk.corpus import stopwords\n",
        "from nltk.stem import WordNetLemmatizer\n"
      ]
    },
    {
      "cell_type": "code",
      "source": [
        "# open file .json\n",
        "with open(\"/content/RAW_DATA.json\", \"r\") as file:\n",
        "    # read file\n",
        "    X = file.read()\n",
        "    #load json\n",
        "    finaldata = json.loads(X)\n",
        "\n",
        "print(finaldata)\n"
      ],
      "metadata": {
        "colab": {
          "base_uri": "https://localhost:8080/"
        },
        "id": "602w9IQZZDrP",
        "outputId": "820e1e47-c600-4832-c2ac-9f492688f262"
      },
      "execution_count": 2,
      "outputs": [
        {
          "output_type": "stream",
          "name": "stdout",
          "text": [
            "{'https://wwwsoutheastern.edu/admin/fin_aid/scholarships/freshman-sch/index.html': {'Chat with us': '', 'Send Email': '', 'New Freshman Scholarships': '', 'Priority Honors and Honors Scholarships': '<p>The <a href=\"/apply/freshmen/index.html\">Southeastern application for admission</a> serves as the application for all New Freshman Scholarships, no separate scholarship\\n                                 application is needed. Students should apply for admission by the priority deadlines\\n                                 indicated below to be eligible for Southeastern\\'s best scholarships. Students should\\n                                 submit their ACT or SAT scores and high school transcript(s) with GPA by May 31 of\\n                                 their senior year.\\xa0\\n                              </p><p>\\xa0</p>', 'Eligibility:': '<ul>\\n<li>\\n<p>Any student admitted to Southeastern with a 23 or higher ACT and a minimum 3.5 high\\n                                       school grade point average (unweighted) or a 24 or higher ACT and a 3.0 high school\\n                                       grade point average (unweighted) qualifies for a scholarship at Southeastern.\\n                                    </p>\\n</li>\\n<li>\\n<p>Housing and meal supplements are\\xa0<strong>ONLY</strong><span>\\xa0</span>available to students who continuously live on campus beginning with their first semester\\n                                       of enrollment.\\n                                    </p>\\n</li>\\n<li>\\n<p>All scholarships are awarded for eight continuous semesters provided retention requirements\\n                                       are met.\\n                                    </p>\\n</li>\\n<li>\\n<p>Qualifying students are also eligible for the Summer\\xa0Scholars program that allows\\n                                       freshmen to start classes in the summer after high school graduation at a greatly\\n                                       reduced cost.\\xa0 Tuition is waived for up to 6 hours (typically 2 classes).\\xa0\\n                                    </p>\\n</li>\\n</ul><p>\\xa0</p>', 'Deadline for Priority Honors Scholarships:': '<ul>\\n<li>Entering Summer/Fall:\\xa0<strong>Apply by January 15</strong></li>\\n<li>Entering Spring:\\xa0<strong>Apply by September 15</strong></li>\\n</ul><p>\\xa0</p>', 'Award Notification:': '<ul>\\n<li>Scholarship offers will be mailed to the students mailing address.\\xa0</li>\\n<li>Students are instructed to view, accept, or decline their scholarship offer on their\\n                                    LeoNet account.\\xa0\\n                                 </li>\\n</ul><hr/>', 'Priority Honors Scholarships': '<p><span>Those who meet the above deadlines are eligible for our best scholarships, our Priority\\n                                    Honors Scholarships. <span>Below is a scholarship grid that indicates the <strong>annual</strong> scholarship award students may qualify to receive. Eligibility is based on full-time\\n                                       status.\\xa0</span></span></p>', 'High School GPA 3.5 - 4.0': '<table cellpadding=\"10\" style=\"width: 100%; border: 2px solid #ffffff; border-color: #ffffff;\">\\n<tbody>\\n<tr style=\"background-color: #006633; color: white;\">\\n<td style=\"border: 2px solid white; background-color: #ffffff; text-align: center;\">\\xa0</td>\\n<td style=\"border: 2px solid white; text-align: center;\">Tuition and Fees*</td>\\n<td style=\"border: 2px solid white; text-align: center;\">TOPS*</td>\\n<td style=\"border: 2px solid white; text-align: center;\">Scholarship Award*</td>\\n<td style=\"border: 2px solid white; text-align: center;\">Housing and Meal Award*</td>\\n</tr>\\n<tr style=\"background-color: #e7c225;\">\\n<td style=\"border: 2px solid white; text-align: center;\">ACT 30+</td>\\n<td style=\"border: 2px solid white; text-align: center;\">$8,889</td>\\n<td style=\"border: 2px solid white; text-align: center;\">$6,452 (GPA 3.50 &amp; above)</td>\\n<td style=\"border: 2px solid white; text-align: center;\">$3,000</td>\\n<td style=\"border: 2px solid white; text-align: center;\">$2,000</td>\\n</tr>\\n<tr style=\"background-color: #fade66;\">\\n<td style=\"border: 2px solid white; text-align: center;\">ACT 27-29</td>\\n<td style=\"border: 2px solid white; text-align: center;\"><span>$</span><span>8,889</span></td>\\n<td style=\"border: 2px solid white; text-align: center;\">$6,452 (GPA 3.5 &amp; above)</td>\\n<td style=\"border: 2px solid white; text-align: center;\">$2,500</td>\\n<td style=\"border: 2px solid white; text-align: center;\">$1,500</td>\\n</tr>\\n<tr style=\"background-color: #e7c225;\">\\n<td style=\"border: 2px solid white; text-align: center;\">ACT 24-26</td>\\n<td style=\"border: 2px solid white; text-align: center;\"><span>$</span><span>8,889</span></td>\\n<td style=\"border: 2px solid white; text-align: center;\">$6,052 (GPA 3.25 &amp; above)</td>\\n<td style=\"border: 2px solid white; text-align: center;\">$1,800</td>\\n<td style=\"border: 2px solid white; text-align: center;\">$750</td>\\n</tr>\\n<tr style=\"background-color: #fade66;\">\\n<td style=\"border: 2px solid white; text-align: center;\">ACT 23</td>\\n<td style=\"border: 2px solid white; text-align: center;\"><span>$</span><span>8,889</span></td>\\n<td style=\"border: 2px solid white; text-align: center;\">$6,052 (GPA 3.25\\xa0 &amp; above)</td>\\n<td style=\"border: 2px solid white; text-align: center;\">$500</td>\\n<td style=\"border: 2px solid white; text-align: center;\">—</td>\\n</tr>\\n</tbody>\\n</table><p>\\xa0</p>', 'High School GPA 3.0 - 3.49': '<table cellpadding=\"10\" style=\"width: 100%; border: 2px solid #ffffff; border-color: #ffffff;\">\\n<tbody>\\n<tr style=\"background-color: #006633; color: white;\">\\n<td style=\"border: 2px solid white; background-color: #ffffff; text-align: center;\">\\xa0</td>\\n<td style=\"border: 2px solid white; text-align: center;\">Tuition and Fees*</td>\\n<td style=\"border: 2px solid white; text-align: center;\">TOPS*</td>\\n<td style=\"border: 2px solid white; text-align: center;\">Scholarship Award*</td>\\n<td style=\"border: 2px solid white; text-align: center;\">Housing and Meal Award*</td>\\n</tr>\\n<tr style=\"background-color: #e7c225;\">\\n<td style=\"border: 2px solid white; text-align: center;\">ACT 30+</td>\\n<td style=\"border: 2px solid white; text-align: center;\"><span>$</span><span>8,889</span></td>\\n<td style=\"border: 2px solid white; text-align: center;\"><span>$6,052 (GPA 3.25 &amp; above)</span><br/><span>$5,652 (GPA below 3.25)</span></td>\\n<td style=\"border: 2px solid white; text-align: center;\">$2,500</td>\\n<td style=\"border: 2px solid white; text-align: center;\">$2,000</td>\\n</tr>\\n<tr style=\"background-color: #fade66;\">\\n<td style=\"border: 2px solid white; text-align: center;\">ACT 27-29</td>\\n<td style=\"border: 2px solid white; text-align: center;\"><span>$</span><span>8,889</span></td>\\n<td style=\"border: 2px solid white; text-align: center;\"><span>$6,052 (GPA 3.25 &amp; above)</span><br/><span>$5,652 (GPA below 3.25)</span></td>\\n<td style=\"border: 2px solid white; text-align: center;\">$1,800</td>\\n<td style=\"border: 2px solid white; text-align: center;\">$1,500</td>\\n</tr>\\n<tr style=\"background-color: #e7c225;\">\\n<td style=\"border: 2px solid white; text-align: center;\">ACT 24-26</td>\\n<td style=\"border: 2px solid white; text-align: center;\"><span>$</span><span>8,889</span></td>\\n<td style=\"border: 2px solid white; text-align: center;\"><span>$6,052 (GPA 3.25 &amp; above)</span><br/><span>$5,652 (GPA below 3.25)</span></td>\\n<td style=\"border: 2px solid white; text-align: center;\">$1,000</td>\\n<td style=\"border: 2px solid white; text-align: center;\">$750</td>\\n</tr>\\n</tbody>\\n</table><p>\\xa0</p><p style=\"text-align: right;\"><em>*<a href=\"https://www.southeastern.edu/admin/controller/tuition/index.html\" target=\"_blank\">Tuition<span>\\xa0</span>and<span>\\xa0</span>fees</a> are annual estimates for 12 credit hours based on Fall 2022 information. <br/>The TOPS award is an annual estimate, including stipends a student is potential eligible\\n                                    for.\\xa0<br/></em></p><hr/>', 'Honors Scholarships': '<p>Those who apply after the above deadlines are eligible for the Honors Scholarship\\n                                 levels.\\xa0<span>Below is a scholarship grid that indicates the <strong>annual</strong> scholarship award students may qualify to receive. Eligibility is based on full-time\\n                                    status.\\xa0</span></p>', 'Non-Resident Fee\\xa0Waiver': '<p><span>The University of Louisiana System provides an out-of-state fee waiver scholarship\\n                                    for new non-resident beginning freshmen and undergraduate transfer applicants who\\n                                    meet System-defined criteria. This waiver is automatically applied to the student\\'s\\n                                    account using information provided on the <a href=\"/apply/index.html\">application for admission</a>. To learn more about the criteria and retention requirements, please refer to the\\n                                    University Catalog\\xa0<a href=\"/resources/catalog/2020_2021/acad_regs/waiver/index.html\">Non-Resident Fee Waiver</a> page.</span></p>', 'Dual Enrollment 15+ Completion Award': '<p>Students who complete 15 or more Southeastern dual enrollment credit hours can also\\n                                 receive a $1000 ($500 Fall; $500 Spring) supplementary award for their first year\\n                                 at Southeastern only, contingent on the availability of funds, upon meeting the following\\n                                 criteria:\\n                              </p><ul>\\n<li>Completion of a minimum of 15 Southeastern dual enrollment credits with a grade of\\n                                    \"C\" or better.\\n                                 </li>\\n<li>Full time enrollment at Southeastern for the first Fall semester following their high\\n                                    school graduation.\\xa0\\n                                 </li>\\n</ul>', 'Southeastern Merit Award': '<ul type=\"disc\">\\n<li>\\n<p>National Merit finalist or semifinalist</p>\\n</li>\\n<li>\\n<p>$1000/semester for 8 semesters</p>\\n</li>\\n<li>Students must submit proof of National Merit finalist or semifinalist standing to\\n                                    the Office of Financial Aid at <a href=\"mailto:scholarships@selu.edu\">scholarships@selu.edu</a>\\xa0to receive this award.\\n                                 </li>\\n</ul><hr/>', 'Scholarship Retention Requirements:': '<ul>\\n<li>\\n<p>You must maintain a\\xa0<strong><span><strong>MINIMUM 3.0 CUMULATIVE GPA</strong></span>.\\xa0</strong></p>\\n</li>\\n<li>\\n<p>You must be continuously enrolled full-time each semester (minimum 12 hours).</p>\\n</li>\\n<li>\\n<p>You must attempt and pass no less than 30 hours per academic year.\\xa0 The academic year\\n                                       is defined as the combination of the Fall, Spring, and Summer semesters. Advanced\\n                                       Placement (AP), CLEP, and/or dual enrollment courses are not applicable to the 30\\n                                       hour requirement.\\xa0\\n                                    </p>\\n</li>\\n</ul>'}}\n"
          ]
        }
      ]
    },
    {
      "cell_type": "code",
      "source": [
        "#all values are stord in data and print the key\n",
        "for key , value in finaldata.items():\n",
        "  data = value\n",
        "  print(key)\n",
        ""
      ],
      "metadata": {
        "colab": {
          "base_uri": "https://localhost:8080/"
        },
        "id": "nY-ldjhHnDt0",
        "outputId": "af302867-92e6-451a-9932-f8a7fb37894b"
      },
      "execution_count": 43,
      "outputs": [
        {
          "output_type": "stream",
          "name": "stdout",
          "text": [
            "https://wwwsoutheastern.edu/admin/fin_aid/scholarships/freshman-sch/index.html\n"
          ]
        }
      ]
    },
    {
      "cell_type": "code",
      "source": [
        "# checking datatype of key\n",
        "type(data)"
      ],
      "metadata": {
        "colab": {
          "base_uri": "https://localhost:8080/"
        },
        "id": "KZ6b0ufAncu1",
        "outputId": "e8a23ad8-8793-4763-d594-e27c24e6f3f0"
      },
      "execution_count": 44,
      "outputs": [
        {
          "output_type": "execute_result",
          "data": {
            "text/plain": [
              "dict"
            ]
          },
          "metadata": {},
          "execution_count": 44
        }
      ]
    },
    {
      "cell_type": "code",
      "source": [
        "# printing key only\n",
        "for key, valaue in data.items():\n",
        "  print(key)\n",
        ""
      ],
      "metadata": {
        "colab": {
          "base_uri": "https://localhost:8080/"
        },
        "id": "0Q2ua8wNridb",
        "outputId": "c90da15e-3660-44d3-fdff-845fa7ce79be"
      },
      "execution_count": 45,
      "outputs": [
        {
          "output_type": "stream",
          "name": "stdout",
          "text": [
            "Chat with us\n",
            "Send Email\n",
            "New Freshman Scholarships\n",
            "Priority Honors and Honors Scholarships\n",
            "Eligibility:\n",
            "Deadline for Priority Honors Scholarships:\n",
            "Award Notification:\n",
            "Priority Honors Scholarships\n",
            "High School GPA 3.5 - 4.0\n",
            "High School GPA 3.0 - 3.49\n",
            "Honors Scholarships\n",
            "Non-Resident Fee Waiver\n",
            "Dual Enrollment 15+ Completion Award\n",
            "Southeastern Merit Award\n",
            "Scholarship Retention Requirements:\n"
          ]
        }
      ]
    },
    {
      "cell_type": "code",
      "source": [
        "#covert dict into data frame\n",
        "json_data = pd.DataFrame(data,index = [0])\n",
        "json_data"
      ],
      "metadata": {
        "colab": {
          "base_uri": "https://localhost:8080/",
          "height": 284
        },
        "id": "nbS161TFoFhq",
        "outputId": "4dcd7488-46e5-4692-a536-704adb27a83d"
      },
      "execution_count": 7,
      "outputs": [
        {
          "output_type": "execute_result",
          "data": {
            "text/plain": [
              "  Chat with us Send Email New Freshman Scholarships  \\\n",
              "0                                                     \n",
              "\n",
              "             Priority Honors and Honors Scholarships  \\\n",
              "0  <p>The <a href=\"/apply/freshmen/index.html\">So...   \n",
              "\n",
              "                                        Eligibility:  \\\n",
              "0  <ul>\\n<li>\\n<p>Any student admitted to Southea...   \n",
              "\n",
              "          Deadline for Priority Honors Scholarships:  \\\n",
              "0  <ul>\\n<li>Entering Summer/Fall: <strong>Apply ...   \n",
              "\n",
              "                                 Award Notification:  \\\n",
              "0  <ul>\\n<li>Scholarship offers will be mailed to...   \n",
              "\n",
              "                        Priority Honors Scholarships  \\\n",
              "0  <p><span>Those who meet the above deadlines ar...   \n",
              "\n",
              "                           High School GPA 3.5 - 4.0  \\\n",
              "0  <table cellpadding=\"10\" style=\"width: 100%; bo...   \n",
              "\n",
              "                          High School GPA 3.0 - 3.49  \\\n",
              "0  <table cellpadding=\"10\" style=\"width: 100%; bo...   \n",
              "\n",
              "                                 Honors Scholarships  \\\n",
              "0  <p>Those who apply after the above deadlines a...   \n",
              "\n",
              "                             Non-Resident Fee Waiver  \\\n",
              "0  <p><span>The University of Louisiana System pr...   \n",
              "\n",
              "                Dual Enrollment 15+ Completion Award  \\\n",
              "0  <p>Students who complete 15 or more Southeaste...   \n",
              "\n",
              "                            Southeastern Merit Award  \\\n",
              "0  <ul type=\"disc\">\\n<li>\\n<p>National Merit fina...   \n",
              "\n",
              "                 Scholarship Retention Requirements:  \n",
              "0  <ul>\\n<li>\\n<p>You must maintain a <strong><sp...  "
            ],
            "text/html": [
              "\n",
              "  <div id=\"df-db5241ae-6bf9-4984-8392-d45dc417a5f3\">\n",
              "    <div class=\"colab-df-container\">\n",
              "      <div>\n",
              "<style scoped>\n",
              "    .dataframe tbody tr th:only-of-type {\n",
              "        vertical-align: middle;\n",
              "    }\n",
              "\n",
              "    .dataframe tbody tr th {\n",
              "        vertical-align: top;\n",
              "    }\n",
              "\n",
              "    .dataframe thead th {\n",
              "        text-align: right;\n",
              "    }\n",
              "</style>\n",
              "<table border=\"1\" class=\"dataframe\">\n",
              "  <thead>\n",
              "    <tr style=\"text-align: right;\">\n",
              "      <th></th>\n",
              "      <th>Chat with us</th>\n",
              "      <th>Send Email</th>\n",
              "      <th>New Freshman Scholarships</th>\n",
              "      <th>Priority Honors and Honors Scholarships</th>\n",
              "      <th>Eligibility:</th>\n",
              "      <th>Deadline for Priority Honors Scholarships:</th>\n",
              "      <th>Award Notification:</th>\n",
              "      <th>Priority Honors Scholarships</th>\n",
              "      <th>High School GPA 3.5 - 4.0</th>\n",
              "      <th>High School GPA 3.0 - 3.49</th>\n",
              "      <th>Honors Scholarships</th>\n",
              "      <th>Non-Resident Fee Waiver</th>\n",
              "      <th>Dual Enrollment 15+ Completion Award</th>\n",
              "      <th>Southeastern Merit Award</th>\n",
              "      <th>Scholarship Retention Requirements:</th>\n",
              "    </tr>\n",
              "  </thead>\n",
              "  <tbody>\n",
              "    <tr>\n",
              "      <th>0</th>\n",
              "      <td></td>\n",
              "      <td></td>\n",
              "      <td></td>\n",
              "      <td>&lt;p&gt;The &lt;a href=\"/apply/freshmen/index.html\"&gt;So...</td>\n",
              "      <td>&lt;ul&gt;\\n&lt;li&gt;\\n&lt;p&gt;Any student admitted to Southea...</td>\n",
              "      <td>&lt;ul&gt;\\n&lt;li&gt;Entering Summer/Fall: &lt;strong&gt;Apply ...</td>\n",
              "      <td>&lt;ul&gt;\\n&lt;li&gt;Scholarship offers will be mailed to...</td>\n",
              "      <td>&lt;p&gt;&lt;span&gt;Those who meet the above deadlines ar...</td>\n",
              "      <td>&lt;table cellpadding=\"10\" style=\"width: 100%; bo...</td>\n",
              "      <td>&lt;table cellpadding=\"10\" style=\"width: 100%; bo...</td>\n",
              "      <td>&lt;p&gt;Those who apply after the above deadlines a...</td>\n",
              "      <td>&lt;p&gt;&lt;span&gt;The University of Louisiana System pr...</td>\n",
              "      <td>&lt;p&gt;Students who complete 15 or more Southeaste...</td>\n",
              "      <td>&lt;ul type=\"disc\"&gt;\\n&lt;li&gt;\\n&lt;p&gt;National Merit fina...</td>\n",
              "      <td>&lt;ul&gt;\\n&lt;li&gt;\\n&lt;p&gt;You must maintain a &lt;strong&gt;&lt;sp...</td>\n",
              "    </tr>\n",
              "  </tbody>\n",
              "</table>\n",
              "</div>\n",
              "      <button class=\"colab-df-convert\" onclick=\"convertToInteractive('df-db5241ae-6bf9-4984-8392-d45dc417a5f3')\"\n",
              "              title=\"Convert this dataframe to an interactive table.\"\n",
              "              style=\"display:none;\">\n",
              "        \n",
              "  <svg xmlns=\"http://www.w3.org/2000/svg\" height=\"24px\"viewBox=\"0 0 24 24\"\n",
              "       width=\"24px\">\n",
              "    <path d=\"M0 0h24v24H0V0z\" fill=\"none\"/>\n",
              "    <path d=\"M18.56 5.44l.94 2.06.94-2.06 2.06-.94-2.06-.94-.94-2.06-.94 2.06-2.06.94zm-11 1L8.5 8.5l.94-2.06 2.06-.94-2.06-.94L8.5 2.5l-.94 2.06-2.06.94zm10 10l.94 2.06.94-2.06 2.06-.94-2.06-.94-.94-2.06-.94 2.06-2.06.94z\"/><path d=\"M17.41 7.96l-1.37-1.37c-.4-.4-.92-.59-1.43-.59-.52 0-1.04.2-1.43.59L10.3 9.45l-7.72 7.72c-.78.78-.78 2.05 0 2.83L4 21.41c.39.39.9.59 1.41.59.51 0 1.02-.2 1.41-.59l7.78-7.78 2.81-2.81c.8-.78.8-2.07 0-2.86zM5.41 20L4 18.59l7.72-7.72 1.47 1.35L5.41 20z\"/>\n",
              "  </svg>\n",
              "      </button>\n",
              "      \n",
              "  <style>\n",
              "    .colab-df-container {\n",
              "      display:flex;\n",
              "      flex-wrap:wrap;\n",
              "      gap: 12px;\n",
              "    }\n",
              "\n",
              "    .colab-df-convert {\n",
              "      background-color: #E8F0FE;\n",
              "      border: none;\n",
              "      border-radius: 50%;\n",
              "      cursor: pointer;\n",
              "      display: none;\n",
              "      fill: #1967D2;\n",
              "      height: 32px;\n",
              "      padding: 0 0 0 0;\n",
              "      width: 32px;\n",
              "    }\n",
              "\n",
              "    .colab-df-convert:hover {\n",
              "      background-color: #E2EBFA;\n",
              "      box-shadow: 0px 1px 2px rgba(60, 64, 67, 0.3), 0px 1px 3px 1px rgba(60, 64, 67, 0.15);\n",
              "      fill: #174EA6;\n",
              "    }\n",
              "\n",
              "    [theme=dark] .colab-df-convert {\n",
              "      background-color: #3B4455;\n",
              "      fill: #D2E3FC;\n",
              "    }\n",
              "\n",
              "    [theme=dark] .colab-df-convert:hover {\n",
              "      background-color: #434B5C;\n",
              "      box-shadow: 0px 1px 3px 1px rgba(0, 0, 0, 0.15);\n",
              "      filter: drop-shadow(0px 1px 2px rgba(0, 0, 0, 0.3));\n",
              "      fill: #FFFFFF;\n",
              "    }\n",
              "  </style>\n",
              "\n",
              "      <script>\n",
              "        const buttonEl =\n",
              "          document.querySelector('#df-db5241ae-6bf9-4984-8392-d45dc417a5f3 button.colab-df-convert');\n",
              "        buttonEl.style.display =\n",
              "          google.colab.kernel.accessAllowed ? 'block' : 'none';\n",
              "\n",
              "        async function convertToInteractive(key) {\n",
              "          const element = document.querySelector('#df-db5241ae-6bf9-4984-8392-d45dc417a5f3');\n",
              "          const dataTable =\n",
              "            await google.colab.kernel.invokeFunction('convertToInteractive',\n",
              "                                                     [key], {});\n",
              "          if (!dataTable) return;\n",
              "\n",
              "          const docLinkHtml = 'Like what you see? Visit the ' +\n",
              "            '<a target=\"_blank\" href=https://colab.research.google.com/notebooks/data_table.ipynb>data table notebook</a>'\n",
              "            + ' to learn more about interactive tables.';\n",
              "          element.innerHTML = '';\n",
              "          dataTable['output_type'] = 'display_data';\n",
              "          await google.colab.output.renderOutput(dataTable, element);\n",
              "          const docLink = document.createElement('div');\n",
              "          docLink.innerHTML = docLinkHtml;\n",
              "          element.appendChild(docLink);\n",
              "        }\n",
              "      </script>\n",
              "    </div>\n",
              "  </div>\n",
              "  "
            ]
          },
          "metadata": {},
          "execution_count": 7
        }
      ]
    },
    {
      "cell_type": "code",
      "source": [
        "# see data frame columns\n",
        "json_data['Priority Honors and Honors Scholarships']"
      ],
      "metadata": {
        "colab": {
          "base_uri": "https://localhost:8080/"
        },
        "id": "9DhtPKh-pS6P",
        "outputId": "79d59c21-a5fc-44b4-d0c3-e7265500ab6a"
      },
      "execution_count": 8,
      "outputs": [
        {
          "output_type": "execute_result",
          "data": {
            "text/plain": [
              "0    <p>The <a href=\"/apply/freshmen/index.html\">So...\n",
              "Name: Priority Honors and Honors Scholarships, dtype: object"
            ]
          },
          "metadata": {},
          "execution_count": 8
        }
      ]
    },
    {
      "cell_type": "code",
      "source": [
        "# see the information of dataframe\n",
        "json_data.info()"
      ],
      "metadata": {
        "colab": {
          "base_uri": "https://localhost:8080/"
        },
        "id": "vrZu3TLY_w4x",
        "outputId": "548d2c36-b055-4261-cc2e-e2e54bbad797"
      },
      "execution_count": 9,
      "outputs": [
        {
          "output_type": "stream",
          "name": "stdout",
          "text": [
            "<class 'pandas.core.frame.DataFrame'>\n",
            "Int64Index: 1 entries, 0 to 0\n",
            "Data columns (total 15 columns):\n",
            " #   Column                                      Non-Null Count  Dtype \n",
            "---  ------                                      --------------  ----- \n",
            " 0   Chat with us                                1 non-null      object\n",
            " 1   Send Email                                  1 non-null      object\n",
            " 2   New Freshman Scholarships                   1 non-null      object\n",
            " 3   Priority Honors and Honors Scholarships     1 non-null      object\n",
            " 4   Eligibility:                                1 non-null      object\n",
            " 5   Deadline for Priority Honors Scholarships:  1 non-null      object\n",
            " 6   Award Notification:                         1 non-null      object\n",
            " 7   Priority Honors Scholarships                1 non-null      object\n",
            " 8   High School GPA 3.5 - 4.0                   1 non-null      object\n",
            " 9   High School GPA 3.0 - 3.49                  1 non-null      object\n",
            " 10  Honors Scholarships                         1 non-null      object\n",
            " 11  Non-Resident Fee Waiver                     1 non-null      object\n",
            " 12  Dual Enrollment 15+ Completion Award        1 non-null      object\n",
            " 13  Southeastern Merit Award                    1 non-null      object\n",
            " 14  Scholarship Retention Requirements:         1 non-null      object\n",
            "dtypes: object(15)\n",
            "memory usage: 128.0+ bytes\n"
          ]
        }
      ]
    },
    {
      "cell_type": "code",
      "source": [
        "json_data.shape # for checking the shape that gives no. of rows and columns"
      ],
      "metadata": {
        "colab": {
          "base_uri": "https://localhost:8080/"
        },
        "id": "15_i8niBBK5J",
        "outputId": "47bfb49b-7101-4eba-dc60-e9f38120bbe5"
      },
      "execution_count": 10,
      "outputs": [
        {
          "output_type": "execute_result",
          "data": {
            "text/plain": [
              "(1, 15)"
            ]
          },
          "metadata": {},
          "execution_count": 10
        }
      ]
    },
    {
      "cell_type": "code",
      "source": [
        "json_data.isnull().sum() # check it gives any column having NaN value"
      ],
      "metadata": {
        "colab": {
          "base_uri": "https://localhost:8080/"
        },
        "id": "I6uwjpiOCDpu",
        "outputId": "f9fe87f5-4226-49c7-8d92-da93b6d03c5b"
      },
      "execution_count": 11,
      "outputs": [
        {
          "output_type": "execute_result",
          "data": {
            "text/plain": [
              "Chat with us                                  0\n",
              "Send Email                                    0\n",
              "New Freshman Scholarships                     0\n",
              "Priority Honors and Honors Scholarships       0\n",
              "Eligibility:                                  0\n",
              "Deadline for Priority Honors Scholarships:    0\n",
              "Award Notification:                           0\n",
              "Priority Honors Scholarships                  0\n",
              "High School GPA 3.5 - 4.0                     0\n",
              "High School GPA 3.0 - 3.49                    0\n",
              "Honors Scholarships                           0\n",
              "Non-Resident Fee Waiver                       0\n",
              "Dual Enrollment 15+ Completion Award          0\n",
              "Southeastern Merit Award                      0\n",
              "Scholarship Retention Requirements:           0\n",
              "dtype: int64"
            ]
          },
          "metadata": {},
          "execution_count": 11
        }
      ]
    },
    {
      "cell_type": "code",
      "source": [
        "nltk.download(\"stopwords\")"
      ],
      "metadata": {
        "colab": {
          "base_uri": "https://localhost:8080/"
        },
        "id": "-sWSfIDOCUqO",
        "outputId": "58e57f70-93e3-4759-d208-7edd6292df0f"
      },
      "execution_count": 12,
      "outputs": [
        {
          "output_type": "stream",
          "name": "stderr",
          "text": [
            "[nltk_data] Downloading package stopwords to /root/nltk_data...\n",
            "[nltk_data]   Package stopwords is already up-to-date!\n"
          ]
        },
        {
          "output_type": "execute_result",
          "data": {
            "text/plain": [
              "True"
            ]
          },
          "metadata": {},
          "execution_count": 12
        }
      ]
    },
    {
      "cell_type": "code",
      "source": [
        "stopwords.words('english') # here can see the english stop word"
      ],
      "metadata": {
        "colab": {
          "base_uri": "https://localhost:8080/"
        },
        "id": "luovu2HgC-dt",
        "outputId": "f583050b-55ed-486b-98ee-f83bed41a3e1"
      },
      "execution_count": 13,
      "outputs": [
        {
          "output_type": "execute_result",
          "data": {
            "text/plain": [
              "['i',\n",
              " 'me',\n",
              " 'my',\n",
              " 'myself',\n",
              " 'we',\n",
              " 'our',\n",
              " 'ours',\n",
              " 'ourselves',\n",
              " 'you',\n",
              " \"you're\",\n",
              " \"you've\",\n",
              " \"you'll\",\n",
              " \"you'd\",\n",
              " 'your',\n",
              " 'yours',\n",
              " 'yourself',\n",
              " 'yourselves',\n",
              " 'he',\n",
              " 'him',\n",
              " 'his',\n",
              " 'himself',\n",
              " 'she',\n",
              " \"she's\",\n",
              " 'her',\n",
              " 'hers',\n",
              " 'herself',\n",
              " 'it',\n",
              " \"it's\",\n",
              " 'its',\n",
              " 'itself',\n",
              " 'they',\n",
              " 'them',\n",
              " 'their',\n",
              " 'theirs',\n",
              " 'themselves',\n",
              " 'what',\n",
              " 'which',\n",
              " 'who',\n",
              " 'whom',\n",
              " 'this',\n",
              " 'that',\n",
              " \"that'll\",\n",
              " 'these',\n",
              " 'those',\n",
              " 'am',\n",
              " 'is',\n",
              " 'are',\n",
              " 'was',\n",
              " 'were',\n",
              " 'be',\n",
              " 'been',\n",
              " 'being',\n",
              " 'have',\n",
              " 'has',\n",
              " 'had',\n",
              " 'having',\n",
              " 'do',\n",
              " 'does',\n",
              " 'did',\n",
              " 'doing',\n",
              " 'a',\n",
              " 'an',\n",
              " 'the',\n",
              " 'and',\n",
              " 'but',\n",
              " 'if',\n",
              " 'or',\n",
              " 'because',\n",
              " 'as',\n",
              " 'until',\n",
              " 'while',\n",
              " 'of',\n",
              " 'at',\n",
              " 'by',\n",
              " 'for',\n",
              " 'with',\n",
              " 'about',\n",
              " 'against',\n",
              " 'between',\n",
              " 'into',\n",
              " 'through',\n",
              " 'during',\n",
              " 'before',\n",
              " 'after',\n",
              " 'above',\n",
              " 'below',\n",
              " 'to',\n",
              " 'from',\n",
              " 'up',\n",
              " 'down',\n",
              " 'in',\n",
              " 'out',\n",
              " 'on',\n",
              " 'off',\n",
              " 'over',\n",
              " 'under',\n",
              " 'again',\n",
              " 'further',\n",
              " 'then',\n",
              " 'once',\n",
              " 'here',\n",
              " 'there',\n",
              " 'when',\n",
              " 'where',\n",
              " 'why',\n",
              " 'how',\n",
              " 'all',\n",
              " 'any',\n",
              " 'both',\n",
              " 'each',\n",
              " 'few',\n",
              " 'more',\n",
              " 'most',\n",
              " 'other',\n",
              " 'some',\n",
              " 'such',\n",
              " 'no',\n",
              " 'nor',\n",
              " 'not',\n",
              " 'only',\n",
              " 'own',\n",
              " 'same',\n",
              " 'so',\n",
              " 'than',\n",
              " 'too',\n",
              " 'very',\n",
              " 's',\n",
              " 't',\n",
              " 'can',\n",
              " 'will',\n",
              " 'just',\n",
              " 'don',\n",
              " \"don't\",\n",
              " 'should',\n",
              " \"should've\",\n",
              " 'now',\n",
              " 'd',\n",
              " 'll',\n",
              " 'm',\n",
              " 'o',\n",
              " 're',\n",
              " 've',\n",
              " 'y',\n",
              " 'ain',\n",
              " 'aren',\n",
              " \"aren't\",\n",
              " 'couldn',\n",
              " \"couldn't\",\n",
              " 'didn',\n",
              " \"didn't\",\n",
              " 'doesn',\n",
              " \"doesn't\",\n",
              " 'hadn',\n",
              " \"hadn't\",\n",
              " 'hasn',\n",
              " \"hasn't\",\n",
              " 'haven',\n",
              " \"haven't\",\n",
              " 'isn',\n",
              " \"isn't\",\n",
              " 'ma',\n",
              " 'mightn',\n",
              " \"mightn't\",\n",
              " 'mustn',\n",
              " \"mustn't\",\n",
              " 'needn',\n",
              " \"needn't\",\n",
              " 'shan',\n",
              " \"shan't\",\n",
              " 'shouldn',\n",
              " \"shouldn't\",\n",
              " 'wasn',\n",
              " \"wasn't\",\n",
              " 'weren',\n",
              " \"weren't\",\n",
              " 'won',\n",
              " \"won't\",\n",
              " 'wouldn',\n",
              " \"wouldn't\"]"
            ]
          },
          "metadata": {},
          "execution_count": 13
        }
      ]
    },
    {
      "cell_type": "code",
      "source": [
        "print(data[\"Priority Honors and Honors Scholarships\"])# here you can see the data of column Priority Honors and Honors Scholarships"
      ],
      "metadata": {
        "colab": {
          "base_uri": "https://localhost:8080/"
        },
        "id": "8hOkd775DW4E",
        "outputId": "33b6dfa6-a837-4ac3-821f-ce8b3b1d5c0f"
      },
      "execution_count": 28,
      "outputs": [
        {
          "output_type": "stream",
          "name": "stdout",
          "text": [
            "<p>The <a href=\"/apply/freshmen/index.html\">Southeastern application for admission</a> serves as the application for all New Freshman Scholarships, no separate scholarship\n",
            "                                 application is needed. Students should apply for admission by the priority deadlines\n",
            "                                 indicated below to be eligible for Southeastern's best scholarships. Students should\n",
            "                                 submit their ACT or SAT scores and high school transcript(s) with GPA by May 31 of\n",
            "                                 their senior year. \n",
            "                              </p><p> </p>\n"
          ]
        }
      ]
    },
    {
      "cell_type": "code",
      "source": [
        "# here define pattern for remove html tags uing regular expression\n",
        "pattern = re.compile('<.*?>')\n",
        "# here convert object into string data type\n",
        "data_1 = str(data[\"Priority Honors and Honors Scholarships\"])\n",
        "# here regular expression and substitution using for subtitute space in place of html tag\n",
        "cleaned_data = re.sub(pattern, \" \", data_1)\n",
        "cleaned_data\n"
      ],
      "metadata": {
        "colab": {
          "base_uri": "https://localhost:8080/",
          "height": 70
        },
        "id": "Q_pMWv5qGDGq",
        "outputId": "4a5592a6-a686-41ba-f394-63ca648c8f90"
      },
      "execution_count": 51,
      "outputs": [
        {
          "output_type": "execute_result",
          "data": {
            "text/plain": [
              "\" The  Southeastern application for admission  serves as the application for all New Freshman Scholarships, no separate scholarship\\n                                 application is needed. Students should apply for admission by the priority deadlines\\n                                 indicated below to be eligible for Southeastern's best scholarships. Students should\\n                                 submit their ACT or SAT scores and high school transcript(s) with GPA by May 31 of\\n                                 their senior year.\\xa0\\n                                \\xa0 \""
            ],
            "application/vnd.google.colaboratory.intrinsic+json": {
              "type": "string"
            }
          },
          "metadata": {},
          "execution_count": 51
        }
      ]
    },
    {
      "cell_type": "code",
      "source": [
        "cleaned_data"
      ],
      "metadata": {
        "colab": {
          "base_uri": "https://localhost:8080/",
          "height": 70
        },
        "id": "QUsomoafIbBk",
        "outputId": "a51235e6-3286-42ee-a644-c8b2a004f194"
      },
      "execution_count": 52,
      "outputs": [
        {
          "output_type": "execute_result",
          "data": {
            "text/plain": [
              "\" The  Southeastern application for admission  serves as the application for all New Freshman Scholarships, no separate scholarship\\n                                 application is needed. Students should apply for admission by the priority deadlines\\n                                 indicated below to be eligible for Southeastern's best scholarships. Students should\\n                                 submit their ACT or SAT scores and high school transcript(s) with GPA by May 31 of\\n                                 their senior year.\\xa0\\n                                \\xa0 \""
            ],
            "application/vnd.google.colaboratory.intrinsic+json": {
              "type": "string"
            }
          },
          "metadata": {},
          "execution_count": 52
        }
      ]
    },
    {
      "cell_type": "code",
      "source": [
        "# here remove the htpps link from data\n",
        "cleaned_data = re.sub(r'https?://\\S+', '', cleaned_data)\n",
        "cleaned_data"
      ],
      "metadata": {
        "colab": {
          "base_uri": "https://localhost:8080/",
          "height": 70
        },
        "id": "DXzghCTpKhGN",
        "outputId": "7ae60c29-fea1-4114-9cee-53b1e3788419"
      },
      "execution_count": 53,
      "outputs": [
        {
          "output_type": "execute_result",
          "data": {
            "text/plain": [
              "\" The  Southeastern application for admission  serves as the application for all New Freshman Scholarships, no separate scholarship\\n                                 application is needed. Students should apply for admission by the priority deadlines\\n                                 indicated below to be eligible for Southeastern's best scholarships. Students should\\n                                 submit their ACT or SAT scores and high school transcript(s) with GPA by May 31 of\\n                                 their senior year.\\xa0\\n                                \\xa0 \""
            ],
            "application/vnd.google.colaboratory.intrinsic+json": {
              "type": "string"
            }
          },
          "metadata": {},
          "execution_count": 53
        }
      ]
    },
    {
      "cell_type": "code",
      "source": [
        "# using split method to split the text at Name and it takes only before Name\n",
        "#cleaned_data = cleaned_data.split('Name')[0]\n",
        "#cleaned_data"
      ],
      "metadata": {
        "colab": {
          "base_uri": "https://localhost:8080/",
          "height": 35
        },
        "id": "oOtm2zwuMtfL",
        "outputId": "4993ff20-234c-4a92-e503-f123206a465f"
      },
      "execution_count": 21,
      "outputs": [
        {
          "output_type": "execute_result",
          "data": {
            "text/plain": [
              "'0     The  So...\\n'"
            ],
            "application/vnd.google.colaboratory.intrinsic+json": {
              "type": "string"
            }
          },
          "metadata": {},
          "execution_count": 21
        }
      ]
    },
    {
      "cell_type": "code",
      "source": [
        "# remove dtype:object from the text\n",
        "#cleaned_data = cleaned_data.replace(\"dtype: object\",\"\")\n",
        "#cleaned_data"
      ],
      "metadata": {
        "id": "rAbv_IXDLiwg"
      },
      "execution_count": 151,
      "outputs": []
    },
    {
      "cell_type": "code",
      "source": [
        "#here use regular expression for pattern match if data contain except alphabet it can subtitute these data with space\n",
        "cleaned_data = re.sub('[^a-zA-Z0-9.]',' ',cleaned_data).lower().split()\n",
        "cleaned_data"
      ],
      "metadata": {
        "colab": {
          "base_uri": "https://localhost:8080/"
        },
        "id": "ql47zRxADjbh",
        "outputId": "f84abdb4-b2ef-43f3-94e9-74ac9ea1880b"
      },
      "execution_count": 54,
      "outputs": [
        {
          "output_type": "execute_result",
          "data": {
            "text/plain": [
              "['the',\n",
              " 'southeastern',\n",
              " 'application',\n",
              " 'for',\n",
              " 'admission',\n",
              " 'serves',\n",
              " 'as',\n",
              " 'the',\n",
              " 'application',\n",
              " 'for',\n",
              " 'all',\n",
              " 'new',\n",
              " 'freshman',\n",
              " 'scholarships',\n",
              " 'no',\n",
              " 'separate',\n",
              " 'scholarship',\n",
              " 'application',\n",
              " 'is',\n",
              " 'needed.',\n",
              " 'students',\n",
              " 'should',\n",
              " 'apply',\n",
              " 'for',\n",
              " 'admission',\n",
              " 'by',\n",
              " 'the',\n",
              " 'priority',\n",
              " 'deadlines',\n",
              " 'indicated',\n",
              " 'below',\n",
              " 'to',\n",
              " 'be',\n",
              " 'eligible',\n",
              " 'for',\n",
              " 'southeastern',\n",
              " 's',\n",
              " 'best',\n",
              " 'scholarships.',\n",
              " 'students',\n",
              " 'should',\n",
              " 'submit',\n",
              " 'their',\n",
              " 'act',\n",
              " 'or',\n",
              " 'sat',\n",
              " 'scores',\n",
              " 'and',\n",
              " 'high',\n",
              " 'school',\n",
              " 'transcript',\n",
              " 's',\n",
              " 'with',\n",
              " 'gpa',\n",
              " 'by',\n",
              " 'may',\n",
              " '31',\n",
              " 'of',\n",
              " 'their',\n",
              " 'senior',\n",
              " 'year.']"
            ]
          },
          "metadata": {},
          "execution_count": 54
        }
      ]
    },
    {
      "cell_type": "code",
      "source": [
        "# here using join the list of word with single space\n",
        "cleaned_data = \" \".join(cleaned_data)\n",
        "# here we get the cleaned finally data with removing stop word and conversion of base word\n",
        "cleaned_data"
      ],
      "metadata": {
        "colab": {
          "base_uri": "https://localhost:8080/",
          "height": 70
        },
        "id": "2k_bJlNPKgUe",
        "outputId": "3a0363a0-7ae3-4289-d4fa-be7ac13e6390"
      },
      "execution_count": 55,
      "outputs": [
        {
          "output_type": "execute_result",
          "data": {
            "text/plain": [
              "'the southeastern application for admission serves as the application for all new freshman scholarships no separate scholarship application is needed. students should apply for admission by the priority deadlines indicated below to be eligible for southeastern s best scholarships. students should submit their act or sat scores and high school transcript s with gpa by may 31 of their senior year.'"
            ],
            "application/vnd.google.colaboratory.intrinsic+json": {
              "type": "string"
            }
          },
          "metadata": {},
          "execution_count": 55
        }
      ]
    },
    {
      "cell_type": "code",
      "source": [
        "def clean_data(data):\n",
        "  # here regular expression and substitution using for subtitute space in place of html tag\n",
        "  cleaned_data = re.sub(re.compile('<.*?>'), \" \", data)\n",
        "  # here remove the htpps link from data\n",
        "  cleaned_data = re.sub(r'https?://\\S+', '', cleaned_data)\n",
        "  #here use regular expression for pattern match if data contain except alphabet it can subtitute these data with space\n",
        "  cleaned_data = re.sub('[^a-zA-Z0-9.]',' ',cleaned_data).lower().split()\n",
        "  cleaned_data = \" \".join(cleaned_data)\n",
        "  return cleaned_data\n",
        "\n"
      ],
      "metadata": {
        "id": "oaOA56F9Ejer"
      },
      "execution_count": 58,
      "outputs": []
    },
    {
      "cell_type": "code",
      "source": [
        "clean_data(str(data[\"Priority Honors and Honors Scholarships\"]))"
      ],
      "metadata": {
        "id": "hzh4t0H1SpwQ",
        "colab": {
          "base_uri": "https://localhost:8080/",
          "height": 70
        },
        "outputId": "286295d2-06ac-4bdb-b0e4-fe89e98a4a79"
      },
      "execution_count": 59,
      "outputs": [
        {
          "output_type": "execute_result",
          "data": {
            "text/plain": [
              "'the southeastern application for admission serves as the application for all new freshman scholarships no separate scholarship application is needed. students should apply for admission by the priority deadlines indicated below to be eligible for southeastern s best scholarships. students should submit their act or sat scores and high school transcript s with gpa by may 31 of their senior year.'"
            ],
            "application/vnd.google.colaboratory.intrinsic+json": {
              "type": "string"
            }
          },
          "metadata": {},
          "execution_count": 59
        }
      ]
    },
    {
      "cell_type": "code",
      "source": [
        "for key, value in data.items():\n",
        "  print(f\"clean data of columns{key} --> {clean_data(str(value))}\")\n",
        "  print(\"*#\"*20)"
      ],
      "metadata": {
        "colab": {
          "base_uri": "https://localhost:8080/"
        },
        "id": "NkkLWR-euhf2",
        "outputId": "9146aa87-18eb-43d7-ee5a-b96ec693972e"
      },
      "execution_count": 60,
      "outputs": [
        {
          "output_type": "stream",
          "name": "stdout",
          "text": [
            "clean data of columnsChat with us --> \n",
            "*#*#*#*#*#*#*#*#*#*#*#*#*#*#*#*#*#*#*#*#\n",
            "clean data of columnsSend Email --> \n",
            "*#*#*#*#*#*#*#*#*#*#*#*#*#*#*#*#*#*#*#*#\n",
            "clean data of columnsNew Freshman Scholarships --> \n",
            "*#*#*#*#*#*#*#*#*#*#*#*#*#*#*#*#*#*#*#*#\n",
            "clean data of columnsPriority Honors and Honors Scholarships --> the southeastern application for admission serves as the application for all new freshman scholarships no separate scholarship application is needed. students should apply for admission by the priority deadlines indicated below to be eligible for southeastern s best scholarships. students should submit their act or sat scores and high school transcript s with gpa by may 31 of their senior year.\n",
            "*#*#*#*#*#*#*#*#*#*#*#*#*#*#*#*#*#*#*#*#\n",
            "clean data of columnsEligibility: --> any student admitted to southeastern with a 23 or higher act and a minimum 3.5 high school grade point average unweighted or a 24 or higher act and a 3.0 high school grade point average unweighted qualifies for a scholarship at southeastern. housing and meal supplements are only available to students who continuously live on campus beginning with their first semester of enrollment. all scholarships are awarded for eight continuous semesters provided retention requirements are met. qualifying students are also eligible for the summer scholars program that allows freshmen to start classes in the summer after high school graduation at a greatly reduced cost. tuition is waived for up to 6 hours typically 2 classes .\n",
            "*#*#*#*#*#*#*#*#*#*#*#*#*#*#*#*#*#*#*#*#\n",
            "clean data of columnsDeadline for Priority Honors Scholarships: --> entering summer fall apply by january 15 entering spring apply by september 15\n",
            "*#*#*#*#*#*#*#*#*#*#*#*#*#*#*#*#*#*#*#*#\n",
            "clean data of columnsAward Notification: --> scholarship offers will be mailed to the students mailing address. students are instructed to view accept or decline their scholarship offer on their leonet account.\n",
            "*#*#*#*#*#*#*#*#*#*#*#*#*#*#*#*#*#*#*#*#\n",
            "clean data of columnsPriority Honors Scholarships --> those who meet the above deadlines are eligible for our best scholarships our priority honors scholarships. below is a scholarship grid that indicates the annual scholarship award students may qualify to receive. eligibility is based on full time status.\n",
            "*#*#*#*#*#*#*#*#*#*#*#*#*#*#*#*#*#*#*#*#\n",
            "clean data of columnsHigh School GPA 3.5 - 4.0 --> tuition and fees tops scholarship award housing and meal award act 30 8 889 6 452 gpa 3.50 amp above 3 000 2 000 act 27 29 8 889 6 452 gpa 3.5 amp above 2 500 1 500 act 24 26 8 889 6 052 gpa 3.25 amp above 1 800 750 act 23 8 889 6 052 gpa 3.25 amp above 500\n",
            "*#*#*#*#*#*#*#*#*#*#*#*#*#*#*#*#*#*#*#*#\n",
            "clean data of columnsHigh School GPA 3.0 - 3.49 --> tuition and fees tops scholarship award housing and meal award act 30 8 889 6 052 gpa 3.25 amp above 5 652 gpa below 3.25 2 500 2 000 act 27 29 8 889 6 052 gpa 3.25 amp above 5 652 gpa below 3.25 1 800 1 500 act 24 26 8 889 6 052 gpa 3.25 amp above 5 652 gpa below 3.25 1 000 750 tuition and fees are annual estimates for 12 credit hours based on fall 2022 information. the tops award is an annual estimate including stipends a student is potential eligible for.\n",
            "*#*#*#*#*#*#*#*#*#*#*#*#*#*#*#*#*#*#*#*#\n",
            "clean data of columnsHonors Scholarships --> those who apply after the above deadlines are eligible for the honors scholarship levels. below is a scholarship grid that indicates the annual scholarship award students may qualify to receive. eligibility is based on full time status.\n",
            "*#*#*#*#*#*#*#*#*#*#*#*#*#*#*#*#*#*#*#*#\n",
            "clean data of columnsNon-Resident Fee Waiver --> the university of louisiana system provides an out of state fee waiver scholarship for new non resident beginning freshmen and undergraduate transfer applicants who meet system defined criteria. this waiver is automatically applied to the student s account using information provided on the application for admission . to learn more about the criteria and retention requirements please refer to the university catalog non resident fee waiver page.\n",
            "*#*#*#*#*#*#*#*#*#*#*#*#*#*#*#*#*#*#*#*#\n",
            "clean data of columnsDual Enrollment 15+ Completion Award --> students who complete 15 or more southeastern dual enrollment credit hours can also receive a 1000 500 fall 500 spring supplementary award for their first year at southeastern only contingent on the availability of funds upon meeting the following criteria completion of a minimum of 15 southeastern dual enrollment credits with a grade of c or better. full time enrollment at southeastern for the first fall semester following their high school graduation.\n",
            "*#*#*#*#*#*#*#*#*#*#*#*#*#*#*#*#*#*#*#*#\n",
            "clean data of columnsSoutheastern Merit Award --> national merit finalist or semifinalist 1000 semester for 8 semesters students must submit proof of national merit finalist or semifinalist standing to the office of financial aid at scholarships selu.edu to receive this award.\n",
            "*#*#*#*#*#*#*#*#*#*#*#*#*#*#*#*#*#*#*#*#\n",
            "clean data of columnsScholarship Retention Requirements: --> you must maintain a minimum 3.0 cumulative gpa . you must be continuously enrolled full time each semester minimum 12 hours . you must attempt and pass no less than 30 hours per academic year. the academic year is defined as the combination of the fall spring and summer semesters. advanced placement ap clep and or dual enrollment courses are not applicable to the 30 hour requirement.\n",
            "*#*#*#*#*#*#*#*#*#*#*#*#*#*#*#*#*#*#*#*#\n"
          ]
        }
      ]
    },
    {
      "cell_type": "code",
      "source": [
        "clean_data(str(data[\"Eligibility:\"]))# here you can the eligibility criteria"
      ],
      "metadata": {
        "colab": {
          "base_uri": "https://localhost:8080/",
          "height": 87
        },
        "id": "dvEK5kt5uhyr",
        "outputId": "d3a6048a-4daa-438c-df13-f3bd3a47af03"
      },
      "execution_count": 62,
      "outputs": [
        {
          "output_type": "execute_result",
          "data": {
            "text/plain": [
              "'any student admitted to southeastern with a 23 or higher act and a minimum 3.5 high school grade point average unweighted or a 24 or higher act and a 3.0 high school grade point average unweighted qualifies for a scholarship at southeastern. housing and meal supplements are only available to students who continuously live on campus beginning with their first semester of enrollment. all scholarships are awarded for eight continuous semesters provided retention requirements are met. qualifying students are also eligible for the summer scholars program that allows freshmen to start classes in the summer after high school graduation at a greatly reduced cost. tuition is waived for up to 6 hours typically 2 classes .'"
            ],
            "application/vnd.google.colaboratory.intrinsic+json": {
              "type": "string"
            }
          },
          "metadata": {},
          "execution_count": 62
        }
      ]
    },
    {
      "cell_type": "code",
      "source": [
        "clean_data(str(data[\"Deadline for Priority Honors Scholarships:\"]))"
      ],
      "metadata": {
        "colab": {
          "base_uri": "https://localhost:8080/",
          "height": 35
        },
        "id": "T7wZtLbGzePL",
        "outputId": "5f8de6b2-9242-4c35-f256-fe567fec9134"
      },
      "execution_count": 63,
      "outputs": [
        {
          "output_type": "execute_result",
          "data": {
            "text/plain": [
              "'entering summer fall apply by january 15 entering spring apply by september 15'"
            ],
            "application/vnd.google.colaboratory.intrinsic+json": {
              "type": "string"
            }
          },
          "metadata": {},
          "execution_count": 63
        }
      ]
    },
    {
      "cell_type": "code",
      "source": [
        "nltk.download('wordnet')\n",
        "#here call wordnetlemmatizer library for coverting base word it gives meanging full information rather than stemming\n",
        "lemmatizer = WordNetLemmatizer()"
      ],
      "metadata": {
        "colab": {
          "base_uri": "https://localhost:8080/"
        },
        "id": "7ZW6vqc10XL2",
        "outputId": "687ee9ec-bf7c-4b76-e668-4d0c77942818"
      },
      "execution_count": 71,
      "outputs": [
        {
          "output_type": "stream",
          "name": "stderr",
          "text": [
            "[nltk_data] Downloading package wordnet to /root/nltk_data...\n"
          ]
        }
      ]
    },
    {
      "cell_type": "code",
      "source": [
        "def clean_data_with_lemma_stop_word(data):\n",
        "  # here regular expression and substitution using for subtitute space in place of html tag\n",
        "  cleaned_data = re.sub(re.compile('<.*?>'), \" \", data)\n",
        "  # here remove the htpps link from data\n",
        "  cleaned_data = re.sub(r'https?://\\S+', '', cleaned_data)\n",
        "  #here use regular expression for pattern match if data contain except alphabet it can subtitute these data with space\n",
        "  cleaned_data = re.sub('[^a-zA-Z0-9.]',' ',cleaned_data).lower().split()\n",
        "  # use lemmatizer for the convert base word and also removing the base word\n",
        "  cleaned_data=[lemmatizer.lemmatize(word) for word in cleaned_data if word not in stopwords.words(\"english\")]\n",
        "  cleaned_data = \" \".join(cleaned_data)\n",
        "  return cleaned_data\n"
      ],
      "metadata": {
        "id": "8VFKBxKBIvHR"
      },
      "execution_count": 73,
      "outputs": []
    },
    {
      "cell_type": "code",
      "source": [
        "clean_data_with_lemma_stop_word(str(data[\"Eligibility:\"]))# here you can the eligibility criteria with removing stop word and lemma"
      ],
      "metadata": {
        "colab": {
          "base_uri": "https://localhost:8080/",
          "height": 70
        },
        "id": "TTLM_0a917Vq",
        "outputId": "1a04ca4d-8e8f-40c3-cf5b-4bd48c295eac"
      },
      "execution_count": 74,
      "outputs": [
        {
          "output_type": "execute_result",
          "data": {
            "text/plain": [
              "'student admitted southeastern 23 higher act minimum 3.5 high school grade point average unweighted 24 higher act 3.0 high school grade point average unweighted qualifies scholarship southeastern. housing meal supplement available student continuously live campus beginning first semester enrollment. scholarship awarded eight continuous semester provided retention requirement met. qualifying student also eligible summer scholar program allows freshman start class summer high school graduation greatly reduced cost. tuition waived 6 hour typically 2 class .'"
            ],
            "application/vnd.google.colaboratory.intrinsic+json": {
              "type": "string"
            }
          },
          "metadata": {},
          "execution_count": 74
        }
      ]
    },
    {
      "cell_type": "code",
      "source": [
        "clean_data_with_lemma_stop_word(str(data[\"Deadline for Priority Honors Scholarships:\"]))"
      ],
      "metadata": {
        "colab": {
          "base_uri": "https://localhost:8080/",
          "height": 35
        },
        "id": "u5gKNVqK2ddK",
        "outputId": "a9ec0296-24c8-4d3f-cde2-6280c1fc236a"
      },
      "execution_count": 75,
      "outputs": [
        {
          "output_type": "execute_result",
          "data": {
            "text/plain": [
              "'entering summer fall apply january 15 entering spring apply september 15'"
            ],
            "application/vnd.google.colaboratory.intrinsic+json": {
              "type": "string"
            }
          },
          "metadata": {},
          "execution_count": 75
        }
      ]
    },
    {
      "cell_type": "code",
      "source": [
        "for key, value in data.items():\n",
        "  print(f\"clean data of columns with base {key} --> {clean_data_with_lemma_stop_word(str(value))}\")\n",
        "  print(\"*#\"*20)"
      ],
      "metadata": {
        "colab": {
          "base_uri": "https://localhost:8080/"
        },
        "id": "qv_hGrB91f8C",
        "outputId": "2bfe310d-5c4d-4c86-e757-136c6ec29394"
      },
      "execution_count": 76,
      "outputs": [
        {
          "output_type": "stream",
          "name": "stdout",
          "text": [
            "clean data of columns with base Chat with us --> \n",
            "*#*#*#*#*#*#*#*#*#*#*#*#*#*#*#*#*#*#*#*#\n",
            "clean data of columns with base Send Email --> \n",
            "*#*#*#*#*#*#*#*#*#*#*#*#*#*#*#*#*#*#*#*#\n",
            "clean data of columns with base New Freshman Scholarships --> \n",
            "*#*#*#*#*#*#*#*#*#*#*#*#*#*#*#*#*#*#*#*#\n",
            "clean data of columns with base Priority Honors and Honors Scholarships --> southeastern application admission serf application new freshman scholarship separate scholarship application needed. student apply admission priority deadline indicated eligible southeastern best scholarships. student submit act sat score high school transcript gpa may 31 senior year.\n",
            "*#*#*#*#*#*#*#*#*#*#*#*#*#*#*#*#*#*#*#*#\n",
            "clean data of columns with base Eligibility: --> student admitted southeastern 23 higher act minimum 3.5 high school grade point average unweighted 24 higher act 3.0 high school grade point average unweighted qualifies scholarship southeastern. housing meal supplement available student continuously live campus beginning first semester enrollment. scholarship awarded eight continuous semester provided retention requirement met. qualifying student also eligible summer scholar program allows freshman start class summer high school graduation greatly reduced cost. tuition waived 6 hour typically 2 class .\n",
            "*#*#*#*#*#*#*#*#*#*#*#*#*#*#*#*#*#*#*#*#\n",
            "clean data of columns with base Deadline for Priority Honors Scholarships: --> entering summer fall apply january 15 entering spring apply september 15\n",
            "*#*#*#*#*#*#*#*#*#*#*#*#*#*#*#*#*#*#*#*#\n",
            "clean data of columns with base Award Notification: --> scholarship offer mailed student mailing address. student instructed view accept decline scholarship offer leonet account.\n",
            "*#*#*#*#*#*#*#*#*#*#*#*#*#*#*#*#*#*#*#*#\n",
            "clean data of columns with base Priority Honors Scholarships --> meet deadline eligible best scholarship priority honor scholarships. scholarship grid indicates annual scholarship award student may qualify receive. eligibility based full time status.\n",
            "*#*#*#*#*#*#*#*#*#*#*#*#*#*#*#*#*#*#*#*#\n",
            "clean data of columns with base High School GPA 3.5 - 4.0 --> tuition fee top scholarship award housing meal award act 30 8 889 6 452 gpa 3.50 amp 3 000 2 000 act 27 29 8 889 6 452 gpa 3.5 amp 2 500 1 500 act 24 26 8 889 6 052 gpa 3.25 amp 1 800 750 act 23 8 889 6 052 gpa 3.25 amp 500\n",
            "*#*#*#*#*#*#*#*#*#*#*#*#*#*#*#*#*#*#*#*#\n",
            "clean data of columns with base High School GPA 3.0 - 3.49 --> tuition fee top scholarship award housing meal award act 30 8 889 6 052 gpa 3.25 amp 5 652 gpa 3.25 2 500 2 000 act 27 29 8 889 6 052 gpa 3.25 amp 5 652 gpa 3.25 1 800 1 500 act 24 26 8 889 6 052 gpa 3.25 amp 5 652 gpa 3.25 1 000 750 tuition fee annual estimate 12 credit hour based fall 2022 information. top award annual estimate including stipend student potential eligible for.\n",
            "*#*#*#*#*#*#*#*#*#*#*#*#*#*#*#*#*#*#*#*#\n",
            "clean data of columns with base Honors Scholarships --> apply deadline eligible honor scholarship levels. scholarship grid indicates annual scholarship award student may qualify receive. eligibility based full time status.\n",
            "*#*#*#*#*#*#*#*#*#*#*#*#*#*#*#*#*#*#*#*#\n",
            "clean data of columns with base Non-Resident Fee Waiver --> university louisiana system provides state fee waiver scholarship new non resident beginning freshman undergraduate transfer applicant meet system defined criteria. waiver automatically applied student account using information provided application admission . learn criterion retention requirement please refer university catalog non resident fee waiver page.\n",
            "*#*#*#*#*#*#*#*#*#*#*#*#*#*#*#*#*#*#*#*#\n",
            "clean data of columns with base Dual Enrollment 15+ Completion Award --> student complete 15 southeastern dual enrollment credit hour also receive 1000 500 fall 500 spring supplementary award first year southeastern contingent availability fund upon meeting following criterion completion minimum 15 southeastern dual enrollment credit grade c better. full time enrollment southeastern first fall semester following high school graduation.\n",
            "*#*#*#*#*#*#*#*#*#*#*#*#*#*#*#*#*#*#*#*#\n",
            "clean data of columns with base Southeastern Merit Award --> national merit finalist semifinalist 1000 semester 8 semester student must submit proof national merit finalist semifinalist standing office financial aid scholarship selu.edu receive award.\n",
            "*#*#*#*#*#*#*#*#*#*#*#*#*#*#*#*#*#*#*#*#\n",
            "clean data of columns with base Scholarship Retention Requirements: --> must maintain minimum 3.0 cumulative gpa . must continuously enrolled full time semester minimum 12 hour . must attempt pas le 30 hour per academic year. academic year defined combination fall spring summer semesters. advanced placement ap clep dual enrollment course applicable 30 hour requirement.\n",
            "*#*#*#*#*#*#*#*#*#*#*#*#*#*#*#*#*#*#*#*#\n"
          ]
        }
      ]
    },
    {
      "cell_type": "code",
      "source": [],
      "metadata": {
        "id": "Nq0Xd-nS5DUa"
      },
      "execution_count": null,
      "outputs": []
    }
  ]
}